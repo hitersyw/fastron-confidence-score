{
 "cells": [
  {
   "cell_type": "markdown",
   "metadata": {},
   "source": [
    "## Regression models table"
   ]
  },
  {
   "cell_type": "code",
   "execution_count": 32,
   "metadata": {},
   "outputs": [
    {
     "name": "stdout",
     "output_type": "stream",
     "text": [
      "\\begin{tabular}{lrrrr}\n",
      "\\hline\n",
      " Model-dataset              &      MSE &      NLL &   Training Time (sec) &   Test time (sec/sample) \\\\\n",
      "\\hline\n",
      " SVR - reachability\\_score   & 2.36e-04 & 1.43e-01 &              5.90e-01 &                 1.73e-05 \\\\\n",
      " RVM - reachability\\_score   & 1.22e-03 & 4.89e-01 &              8.47e-01 &                 2.56e-05 \\\\\n",
      " MLP - reachability\\_score   & 3.61e-05 & 7.40e-03 &              4.92e-02 &                 7.47e-07 \\\\\n",
      " SVR - self\\_collision\\_score & 2.90e-03 & 3.18e-02 &              1.26e+01 &                 1.01e-06 \\\\\n",
      " RVM - self\\_collision\\_score & 8.97e-04 & 2.20e-02 &              2.15e+01 &                 9.32e-06 \\\\\n",
      " MLP - self\\_collision\\_score & 4.85e-03 & 5.02e-01 &              1.81e+02 &                 1.22e-05 \\\\\n",
      " SVR - env\\_collision\\_score  & 3.61e-05 & 7.40e-03 &              4.92e-02 &                 7.47e-07 \\\\\n",
      " RVM - env\\_collision\\_score  & 2.90e-03 & 3.18e-02 &              1.26e+01 &                 1.01e-06 \\\\\n",
      " MLP - env\\_collision\\_score  & 8.97e-04 & 2.20e-02 &              2.15e+01 &                 9.32e-06 \\\\\n",
      "\\hline\n",
      "\\end{tabular}\n"
     ]
    }
   ],
   "source": [
    "from tabulate import tabulate\n",
    "import pandas as pd\n",
    "import numpy as np\n",
    "\n",
    "regression_model_results = pd.read_csv('./results/regression_models.csv')\n",
    "\n",
    "# regression_model_results[:, 1:5] = pd.to_numeric(regression_model_results.iloc[:, 1:5])\n",
    "\n",
    "# read header first\n",
    "header = list(regression_model_results)\n",
    "\n",
    "types = {}\n",
    "for key in header[1:]:\n",
    "    types[key] = np.float64\n",
    "regression_model_results = pd.read_csv('./results/regression_models.csv', dtype=types)\n",
    "header[0] = \"Model-dataset\"\n",
    "print(tabulate(regression_model_results, headers=header, tablefmt=\"latex\", floatfmt='.2e', showindex=False))"
   ]
  },
  {
   "cell_type": "markdown",
   "metadata": {},
   "source": [
    "## Optimization Results table"
   ]
  },
  {
   "cell_type": "code",
   "execution_count": null,
   "metadata": {},
   "outputs": [],
   "source": [
    "# Optimization poses results"
   ]
  }
 ],
 "metadata": {
  "kernelspec": {
   "display_name": "Python 3",
   "language": "python",
   "name": "python3"
  },
  "language_info": {
   "codemirror_mode": {
    "name": "ipython",
    "version": 3
   },
   "file_extension": ".py",
   "mimetype": "text/x-python",
   "name": "python",
   "nbconvert_exporter": "python",
   "pygments_lexer": "ipython3",
   "version": "3.7.5"
  }
 },
 "nbformat": 4,
 "nbformat_minor": 2
}
