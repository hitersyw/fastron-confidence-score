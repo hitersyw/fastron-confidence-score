{
 "cells": [
  {
   "cell_type": "code",
   "execution_count": 35,
   "metadata": {},
   "outputs": [
    {
     "name": "stdout",
     "output_type": "stream",
     "text": [
      "(1600, 2)\n",
      "(1600,)\n",
      "(400, 2)\n",
      "(400,)\n"
     ]
    }
   ],
   "source": [
    "import numpy as np\n",
    "\n",
    "training_file = \"./circle_training.csv\"\n",
    "test_file = \"./circle_test.csv\"\n",
    "\n",
    "output_file = \"./logRegression_circle.json\"\n",
    "\n",
    "training_data = np.loadtxt(training_file, skiprows=3, delimiter=',')\n",
    "test_data = np.loadtxt(test_file, skiprows=3, delimiter=',')\n",
    "\n",
    "training_X = training_data[:, 0:2]\n",
    "training_y = training_data[:, 2]\n",
    "\n",
    "test_X = test_data[:, 0:2]\n",
    "test_y = test_data[:, 2]\n",
    "\n",
    "print(training_X.shape)\n",
    "print(training_y.shape)\n",
    "\n",
    "print(test_X.shape,)\n",
    "print(test_y.shape,)\n",
    "\n",
    "# print(\"Number of positive vs negative samples: %s vs %s\" % (np.count_nonzero(training_y == 1), np.count_nonzero(training_y == -1)))"
   ]
  },
  {
   "cell_type": "code",
   "execution_count": 48,
   "metadata": {},
   "outputs": [
    {
     "name": "stdout",
     "output_type": "stream",
     "text": [
      "['y_pred', -1.0, 1.0]\n"
     ]
    }
   ],
   "source": [
    "from sklearn.linear_model import LogisticRegression\n",
    "import json\n",
    "\n",
    "\n",
    "lr_clf = LogisticRegression(random_state=0, solver='lbfgs').fit(training_X, training_y)\n",
    "y_pred = lr_clf.predict(test_X)\n",
    "p = lr_clf.predict_proba(test_X).T # Need to align the first axis with y_pred\n",
    "\n",
    "header = ['y_pred'] + lr_clf.classes_.tolist()\n",
    "print(header)\n",
    "output_array = np.vstack((y_pred, p)).T\n",
    "output = {\n",
    "    'coef': lr_clf.coef_.tolist(),\n",
    "    'intercept': lr_clf.intercept_.tolist(),\n",
    "    'test_output_header': header,\n",
    "    'test_output': output_array.tolist()\n",
    "}\n",
    "\n",
    "with open(output_file, 'w') as outfile:\n",
    "    json.dump(output, outfile)"
   ]
  },
  {
   "cell_type": "code",
   "execution_count": 49,
   "metadata": {},
   "outputs": [
    {
     "name": "stdout",
     "output_type": "stream",
     "text": [
      "[-1.  1.]\n",
      "(400, 3)\n",
      "[-1. -1. -1. -1. -1. -1. -1. -1. -1. -1.]\n",
      "(1, 2)\n",
      "(1,)\n"
     ]
    }
   ],
   "source": [
    "# np.savetxt(output_file, output, delimiter=',')\n",
    "print(lr_clf.classes_)\n",
    "print(output_array.shape)\n",
    "print(output_array[0:10, 0])\n",
    "print(lr_clf.coef_.shape,)\n",
    "print(lr_clf.intercept_.shape,)"
   ]
  },
  {
   "cell_type": "code",
   "execution_count": null,
   "metadata": {},
   "outputs": [],
   "source": []
  }
 ],
 "metadata": {
  "kernelspec": {
   "display_name": "Python [conda env:ConfidenceScore] *",
   "language": "python",
   "name": "conda-env-ConfidenceScore-py"
  },
  "language_info": {
   "codemirror_mode": {
    "name": "ipython",
    "version": 3
   },
   "file_extension": ".py",
   "mimetype": "text/x-python",
   "name": "python",
   "nbconvert_exporter": "python",
   "pygments_lexer": "ipython3",
   "version": "3.7.4"
  }
 },
 "nbformat": 4,
 "nbformat_minor": 2
}
