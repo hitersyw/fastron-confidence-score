{
 "cells": [
  {
   "cell_type": "code",
   "execution_count": 29,
   "metadata": {},
   "outputs": [
    {
     "name": "stdout",
     "output_type": "stream",
     "text": [
      "(1600, 2)\n",
      "(1600,)\n",
      "(400, 2)\n",
      "(400,)\n"
     ]
    }
   ],
   "source": [
    "import numpy as np\n",
    "\n",
    "training_file = \"./circle_training.csv\"\n",
    "test_file = \"./circle_test.csv\"\n",
    "\n",
    "output_file = \"./logRegression_circle.csv\"\n",
    "\n",
    "training_data = np.loadtxt(training_file, skiprows=3, delimiter=',')\n",
    "test_data = np.loadtxt(test_file, skiprows=3, delimiter=',')\n",
    "\n",
    "training_X = training_data[:, 0:2]\n",
    "training_y = training_data[:, 2]\n",
    "\n",
    "test_X = test_data[:, 0:2]\n",
    "test_y = test_data[:, 2]\n",
    "\n",
    "print(training_X.shape)\n",
    "print(training_y.shape)\n",
    "\n",
    "print(test_X.shape,)\n",
    "print(test_y.shape,)\n",
    "\n",
    "# print(\"Number of positive vs negative samples: %s vs %s\" % (np.count_nonzero(training_y == 1), np.count_nonzero(training_y == -1)))"
   ]
  },
  {
   "cell_type": "code",
   "execution_count": 30,
   "metadata": {},
   "outputs": [
    {
     "name": "stdout",
     "output_type": "stream",
     "text": [
      "[-1.  1.]\n",
      "(400, 3)\n",
      "[-1. -1. -1. -1. -1. -1. -1. -1. -1. -1.]\n"
     ]
    }
   ],
   "source": [
    "from sklearn.linear_model import LogisticRegression\n",
    "\n",
    "# header = [y_pred]\n",
    "lr = LogisticRegression(random_state=0, solver='lbfgs').fit(training_X, training_y)\n",
    "y_pred = lr.predict(test_X)\n",
    "p = lr.predict_proba(test_X).T # Need to align the first axis with y_pred\n",
    "\n",
    "# header.append(lr.classes_)\n",
    "output = np.vstack((y_pred, p)).T\n",
    "np.savetxt(output_file, output, delimiter=',')\n",
    "print(lr.classes_)\n",
    "print(output.shape)\n",
    "print(output[0:10, 0])\n"
   ]
  }
 ],
 "metadata": {
  "kernelspec": {
   "display_name": "Python [conda env:ConfidenceScore] *",
   "language": "python",
   "name": "conda-env-ConfidenceScore-py"
  },
  "language_info": {
   "codemirror_mode": {
    "name": "ipython",
    "version": 3
   },
   "file_extension": ".py",
   "mimetype": "text/x-python",
   "name": "python",
   "nbconvert_exporter": "python",
   "pygments_lexer": "ipython3",
   "version": "3.7.4"
  }
 },
 "nbformat": 4,
 "nbformat_minor": 2
}
